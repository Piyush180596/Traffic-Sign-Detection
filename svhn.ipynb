{
 "cells": [
  {
   "cell_type": "code",
   "execution_count": 82,
   "metadata": {},
   "outputs": [],
   "source": [
    "import numpy as np\n",
    "import pandas as pd\n",
    "import scipy.io as sio\n",
    "import matplotlib.pyplot as plt\n",
    "from sklearn.preprocessing import OneHotEncoder\n",
    "import keras\n",
    "from keras.layers import Conv2D, MaxPooling2D, Flatten\n",
    "from keras.models import Sequential\n",
    "from keras.layers import Dense, Dropout, Activation"
   ]
  },
  {
   "cell_type": "code",
   "execution_count": 85,
   "metadata": {},
   "outputs": [],
   "source": [
    "svhn_train = sio.loadmat('train_32x32.mat')\n",
    "svhn_test = sio.loadmat('test_32x32.mat')"
   ]
  },
  {
   "cell_type": "code",
   "execution_count": 86,
   "metadata": {},
   "outputs": [
    {
     "name": "stdout",
     "output_type": "stream",
     "text": [
      "(32, 32, 3, 73257)\n",
      "(32, 32, 3, 26032)\n"
     ]
    }
   ],
   "source": [
    "print(svhn_train['X'].shape)\n",
    "print(svhn_test['X'].shape)"
   ]
  },
  {
   "cell_type": "code",
   "execution_count": 87,
   "metadata": {},
   "outputs": [],
   "source": [
    "X_train = list()\n",
    "X_test = list()\n",
    "for i in range(svhn_train['X'].shape[3]):\n",
    "    X_train.append(svhn_train['X'][:,:,:,i]/255)\n",
    "    \n",
    "for i in range(svhn_train['X'].shape[3]):\n",
    "    X_test.append(svhn_train['X'][:,:,:,i]/255)  \n",
    "    \n",
    "X_train = np.asarray(X_train)\n",
    "X_test = np.asarray(X_test)"
   ]
  },
  {
   "cell_type": "code",
   "execution_count": 88,
   "metadata": {},
   "outputs": [
    {
     "name": "stdout",
     "output_type": "stream",
     "text": [
      "(73257, 32, 32, 3)\n",
      "(73257, 32, 32, 3)\n"
     ]
    }
   ],
   "source": [
    "print(X_train.shape)\n",
    "print(X_test.shape)"
   ]
  },
  {
   "cell_type": "code",
   "execution_count": 78,
   "metadata": {},
   "outputs": [],
   "source": [
    "enc = OneHotEncoder().fit(train['y'].reshape(-1, 1))\n",
    "y_train = enc.transform(train['y'].reshape(-1, 1)).toarray()\n",
    "y_test = enc.transform(test['y'].reshape(-1, 1)).toarray()"
   ]
  },
  {
   "cell_type": "code",
   "execution_count": 79,
   "metadata": {},
   "outputs": [
    {
     "data": {
      "text/plain": [
       "((73257, 10), (26032, 10))"
      ]
     },
     "execution_count": 79,
     "metadata": {},
     "output_type": "execute_result"
    }
   ],
   "source": [
    "y_train.shape,y_test.shape"
   ]
  },
  {
   "cell_type": "code",
   "execution_count": 73,
   "metadata": {},
   "outputs": [],
   "source": [
    "model = Sequential()\n",
    "model.add(Conv2D(16,(4,4),activation='relu'))\n",
    "model.add(MaxPooling2D(2,2))\n",
    "\n",
    "model.add(Conv2D(32,(4,4),activation='relu'))\n",
    "model.add(MaxPooling2D(2,2))\n",
    "\n",
    "model.add(Conv2D(64,(4,4),activation='relu'))\n",
    "model.add(MaxPooling2D(2,2))\n",
    "\n",
    "model.add(Flatten())\n",
    "model.add(Dense(64,activation='relu'))\n",
    "model.add(Dense(10,activation='softmax'))"
   ]
  },
  {
   "cell_type": "code",
   "execution_count": 74,
   "metadata": {},
   "outputs": [],
   "source": [
    "model.compile(optimizer='adam',loss='categorical_crossentropy',metrics=['accuracy'])"
   ]
  },
  {
   "cell_type": "code",
   "execution_count": 75,
   "metadata": {},
   "outputs": [
    {
     "name": "stdout",
     "output_type": "stream",
     "text": [
      "Train on 65931 samples, validate on 7326 samples\n",
      "Epoch 1/25\n",
      "65931/65931 [==============================] - 90s 1ms/step - loss: 1.3916 - acc: 0.5369 - val_loss: 0.7545 - val_acc: 0.7823\n",
      "Epoch 2/25\n",
      "65931/65931 [==============================] - 80s 1ms/step - loss: 0.6491 - acc: 0.8125 - val_loss: 0.5796 - val_acc: 0.8303\n",
      "Epoch 3/25\n",
      "65931/65931 [==============================] - 70s 1ms/step - loss: 0.5333 - acc: 0.8491 - val_loss: 0.5074 - val_acc: 0.8501\n",
      "Epoch 4/25\n",
      "65931/65931 [==============================] - 70s 1ms/step - loss: 0.4684 - acc: 0.8678 - val_loss: 0.4601 - val_acc: 0.8654\n",
      "Epoch 5/25\n",
      "65931/65931 [==============================] - 78s 1ms/step - loss: 0.4272 - acc: 0.8786 - val_loss: 0.4348 - val_acc: 0.8748\n",
      "Epoch 6/25\n",
      "65931/65931 [==============================] - 71s 1ms/step - loss: 0.3962 - acc: 0.8874 - val_loss: 0.4117 - val_acc: 0.8795\n",
      "Epoch 7/25\n",
      "65931/65931 [==============================] - 87s 1ms/step - loss: 0.3680 - acc: 0.8938 - val_loss: 0.4086 - val_acc: 0.8857\n",
      "Epoch 8/25\n",
      "65931/65931 [==============================] - 81s 1ms/step - loss: 0.3496 - acc: 0.8988 - val_loss: 0.3932 - val_acc: 0.8871\n",
      "Epoch 9/25\n",
      "65931/65931 [==============================] - 83s 1ms/step - loss: 0.3307 - acc: 0.9042 - val_loss: 0.3683 - val_acc: 0.8950\n",
      "Epoch 10/25\n",
      "65931/65931 [==============================] - 79s 1ms/step - loss: 0.3173 - acc: 0.9077 - val_loss: 0.3592 - val_acc: 0.8978\n",
      "Epoch 11/25\n",
      "65931/65931 [==============================] - 85s 1ms/step - loss: 0.3039 - acc: 0.9117 - val_loss: 0.3847 - val_acc: 0.8867\n",
      "Epoch 12/25\n",
      "65931/65931 [==============================] - 82s 1ms/step - loss: 0.2915 - acc: 0.9145 - val_loss: 0.3514 - val_acc: 0.8994\n",
      "Epoch 13/25\n",
      "65931/65931 [==============================] - 76s 1ms/step - loss: 0.2820 - acc: 0.9172 - val_loss: 0.3569 - val_acc: 0.8995\n",
      "Epoch 14/25\n",
      "65931/65931 [==============================] - 76s 1ms/step - loss: 0.2721 - acc: 0.9195 - val_loss: 0.3546 - val_acc: 0.8987\n",
      "Epoch 15/25\n",
      "65931/65931 [==============================] - 72s 1ms/step - loss: 0.2617 - acc: 0.9224 - val_loss: 0.3645 - val_acc: 0.8995\n",
      "Epoch 16/25\n",
      "65931/65931 [==============================] - 74s 1ms/step - loss: 0.2552 - acc: 0.9248 - val_loss: 0.3414 - val_acc: 0.9031\n",
      "Epoch 17/25\n",
      "65931/65931 [==============================] - 73s 1ms/step - loss: 0.2461 - acc: 0.9266 - val_loss: 0.3444 - val_acc: 0.9060\n",
      "Epoch 18/25\n",
      "65931/65931 [==============================] - 74s 1ms/step - loss: 0.2378 - acc: 0.9301 - val_loss: 0.3466 - val_acc: 0.9014\n",
      "Epoch 19/25\n",
      "65931/65931 [==============================] - 72s 1ms/step - loss: 0.2315 - acc: 0.9315 - val_loss: 0.3445 - val_acc: 0.9035\n",
      "Epoch 20/25\n",
      "65931/65931 [==============================] - 55s 837us/step - loss: 0.2262 - acc: 0.9333 - val_loss: 0.3401 - val_acc: 0.9058\n",
      "Epoch 21/25\n",
      "65931/65931 [==============================] - 43s 647us/step - loss: 0.2218 - acc: 0.9338 - val_loss: 0.3673 - val_acc: 0.8969\n",
      "Epoch 22/25\n",
      "65931/65931 [==============================] - 43s 658us/step - loss: 0.2108 - acc: 0.9373 - val_loss: 0.3541 - val_acc: 0.9029\n",
      "Epoch 23/25\n",
      "65931/65931 [==============================] - 72s 1ms/step - loss: 0.2084 - acc: 0.9385 - val_loss: 0.3659 - val_acc: 0.9027\n",
      "Epoch 24/25\n",
      "65931/65931 [==============================] - 71s 1ms/step - loss: 0.2046 - acc: 0.9390 - val_loss: 0.3680 - val_acc: 0.9054\n",
      "Epoch 25/25\n",
      "65931/65931 [==============================] - 73s 1ms/step - loss: 0.1968 - acc: 0.9419 - val_loss: 0.3751 - val_acc: 0.9009\n"
     ]
    }
   ],
   "source": [
    "model_history = model.fit(X_train,y_train,batch_size=128,epochs=25,validation_split=.1)"
   ]
  },
  {
   "cell_type": "code",
   "execution_count": 76,
   "metadata": {},
   "outputs": [
    {
     "name": "stdout",
     "output_type": "stream",
     "text": [
      "Model saved\n"
     ]
    }
   ],
   "source": [
    "model_json = model.to_json()\n",
    "with open(\"svhn.json\",\"w\") as json_file:\n",
    "    json_file.write(model_json)\n",
    "\n",
    "model.save_weights(\"svhn.h5\")\n",
    "print(\"Model saved\")"
   ]
  },
  {
   "cell_type": "code",
   "execution_count": null,
   "metadata": {},
   "outputs": [],
   "source": []
  }
 ],
 "metadata": {
  "kernelspec": {
   "display_name": "Python 3",
   "language": "python",
   "name": "python3"
  },
  "language_info": {
   "codemirror_mode": {
    "name": "ipython",
    "version": 3
   },
   "file_extension": ".py",
   "mimetype": "text/x-python",
   "name": "python",
   "nbconvert_exporter": "python",
   "pygments_lexer": "ipython3",
   "version": "3.6.5"
  }
 },
 "nbformat": 4,
 "nbformat_minor": 2
}
